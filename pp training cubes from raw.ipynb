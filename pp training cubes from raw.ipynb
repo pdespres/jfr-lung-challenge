{
 "cells": [
  {
   "cell_type": "code",
   "execution_count": 1,
   "metadata": {},
   "outputs": [
    {
     "name": "stderr",
     "output_type": "stream",
     "text": [
      "/home/paul/.local/lib/python3.6/site-packages/numba/errors.py:137: UserWarning: Insufficiently recent colorama version found. Numba requires colorama >= 0.3.9\n",
      "  warnings.warn(msg)\n"
     ]
    }
   ],
   "source": [
    "import os\n",
    "import glob\n",
    "import numpy as np\n",
    "import pandas as pd\n",
    "import radio\n",
    "from radio.batchflow import FilesIndex, Dataset, Pipeline\n",
    "from radio import CTImagesMaskedBatch as CTIMB\n",
    "from radio_utils import show_slices, get_nodules_pixel_coords, num_of_cancerous_pixels\n",
    "from radio.pipelines import split_dump\n",
    "\n",
    "from config import config\n",
    "import matplotlib.pyplot as plt\n",
    "plt.rcParams['figure.figsize'] = [32, 32]\n",
    "\n",
    "# import utils\n",
    "import warnings\n",
    "warnings.filterwarnings(\"ignore\")\n",
    "\n",
    "%matplotlib inline"
   ]
  },
  {
   "cell_type": "code",
   "execution_count": 2,
   "metadata": {},
   "outputs": [
    {
     "name": "stdout",
     "output_type": "stream",
     "text": [
      "884\n",
      "708\n"
     ]
    }
   ],
   "source": [
    "PATH_TO_FOLDER = config['luna_raw']\n",
    "cancerous_folder, non_cancerous_folder = '../jfr_pp/test/positive32', '../jfr_pp/test/negative32'\n",
    "luna_label = config['luna_label']\n",
    "    \n",
    "path_to_scans_sample = os.path.join(PATH_TO_FOLDER, '*.mhd')\n",
    "luna_index = FilesIndex(path=path_to_scans_sample, no_ext=True)\n",
    "lunaset = Dataset(index=luna_index, batch_class=CTIMB)\n",
    "print(len(luna_index.indices))\n",
    "lunaset.split([0.8,0.1,0.1])\n",
    "print(len(lunaset.train))"
   ]
  },
  {
   "cell_type": "code",
   "execution_count": 3,
   "metadata": {},
   "outputs": [],
   "source": [
    "# print(lunaset.train.indices)\n",
    "# ['1.3.6.1.4.1.14519.5.2.1.6279.6001.290410217650314119074833254861'\n",
    "#  '1.3.6.1.4.1.14519.5.2.1.6279.6001.201890795870532056891161597218'\n",
    "#  '1.3.6.1.4.1.14519.5.2.1.6279.6001.126631670596873065041988320084'\n",
    "#  '1.3.6.1.4.1.14519.5.2.1.6279.6001.139595277234735528205899724196'\n",
    "#  '1.3.6.1.4.1.14519.5.2.1.6279.6001.211051626197585058967163339846'\n",
    "#  '1.3.6.1.4.1.14519.5.2.1.6279.6001.146603910507557786636779705509'\n",
    "#  '1.3.6.1.4.1.14519.5.2.1.6279.6001.131150737314367975651717513386'\n",
    "#  '1.3.6.1.4.1.14519.5.2.1.6279.6001.417815314896088956784723476543'\n",
    "#  '1.3.6.1.4.1.14519.5.2.1.6279.6001.215785045378334625097907422785']"
   ]
  },
  {
   "cell_type": "code",
   "execution_count": 3,
   "metadata": {},
   "outputs": [
    {
     "name": "stdout",
     "output_type": "stream",
     "text": [
      "                                           seriesuid      coordX      coordY  \\\n",
      "0  1.3.6.1.4.1.14519.5.2.1.6279.6001.100225287222... -128.699421 -175.319272   \n",
      "1  1.3.6.1.4.1.14519.5.2.1.6279.6001.100225287222...  103.783651 -211.925149   \n",
      "\n",
      "       coordZ  diameter_mm  \n",
      "0 -298.387506     5.651471  \n",
      "1 -227.121250     4.224708  \n"
     ]
    }
   ],
   "source": [
    "nodules_df = pd.read_csv(luna_label)\n",
    "print(nodules_df.head(2))"
   ]
  },
  {
   "cell_type": "code",
   "execution_count": 4,
   "metadata": {},
   "outputs": [],
   "source": [
    "SPACING = (1.0, 1.0, 1.0)  # spacing of scans after spacing unification\n",
    "# SHAPE = (400, 512, 512)  # shape of scans after spacing unification\n",
    "PADDING = 'reflect'  # 'reflect' padding-mode produces the least amount of artefacts\n",
    "METHOD = 'pil-simd'  # robust resize-engine\n",
    "\n",
    "kwargs_default = dict(spacing=SPACING, padding=PADDING, method=METHOD)\n",
    "\n",
    "crops_dumping = split_dump(cancerous_folder, non_cancerous_folder, nodules_df, \n",
    "                           fmt='raw', nodule_shape=(32,64,64),variance=(16,36,36), **kwargs_default)"
   ]
  },
  {
   "cell_type": "code",
   "execution_count": 5,
   "metadata": {
    "scrolled": false
   },
   "outputs": [
    {
     "name": "stdout",
     "output_type": "stream",
     "text": [
      "93300 91670\n",
      "CPU times: user 3h 25min 44s, sys: 35min 36s, total: 4h 1min 21s\n",
      "Wall time: 1h 28min 57s\n"
     ]
    }
   ],
   "source": [
    "%%time\n",
    "\n",
    "(lunaset.train >> crops_dumping).run()\n",
    "print(len(os.listdir(cancerous_folder)), len(os.listdir(non_cancerous_folder)))"
   ]
  },
  {
   "cell_type": "code",
   "execution_count": 6,
   "metadata": {},
   "outputs": [
    {
     "name": "stdout",
     "output_type": "stream",
     "text": [
      "93300 91670\n"
     ]
    }
   ],
   "source": [
    "print(len(os.listdir(cancerous_folder)), len(os.listdir(non_cancerous_folder)))"
   ]
  },
  {
   "cell_type": "code",
   "execution_count": 7,
   "metadata": {},
   "outputs": [],
   "source": [
    "cancer_index = FilesIndex(path=os.path.join(cancerous_folder, '*'), dirs=True)\n",
    "non_cancer_index = FilesIndex(path=os.path.join(non_cancerous_folder, '*'), dirs=True)\n",
    "cancer_set = Dataset(cancer_index, batch_class=CTIMB)\n",
    "non_cancer_set = Dataset(non_cancer_index, batch_class=CTIMB)"
   ]
  },
  {
   "cell_type": "code",
   "execution_count": 8,
   "metadata": {},
   "outputs": [],
   "source": [
    "from radio.pipelines import combine_crops\n",
    "crops_sampling = combine_crops(cancer_set, non_cancer_set, batch_sizes=(5, 5))"
   ]
  },
  {
   "cell_type": "code",
   "execution_count": 9,
   "metadata": {},
   "outputs": [
    {
     "data": {
      "text/html": [
       "<div>\n",
       "<style scoped>\n",
       "    .dataframe tbody tr th:only-of-type {\n",
       "        vertical-align: middle;\n",
       "    }\n",
       "\n",
       "    .dataframe tbody tr th {\n",
       "        vertical-align: top;\n",
       "    }\n",
       "\n",
       "    .dataframe thead th {\n",
       "        text-align: right;\n",
       "    }\n",
       "</style>\n",
       "<table border=\"1\" class=\"dataframe\">\n",
       "  <thead>\n",
       "    <tr style=\"text-align: right;\">\n",
       "      <th></th>\n",
       "      <th>Scan 0</th>\n",
       "      <th>Scan 1</th>\n",
       "      <th>Scan 2</th>\n",
       "      <th>Scan 3</th>\n",
       "      <th>Scan 4</th>\n",
       "      <th>Scan 5</th>\n",
       "      <th>Scan 6</th>\n",
       "      <th>Scan 7</th>\n",
       "      <th>Scan 8</th>\n",
       "      <th>Scan 9</th>\n",
       "    </tr>\n",
       "  </thead>\n",
       "  <tbody>\n",
       "    <tr>\n",
       "      <td>Number of cancerous  pixels:</td>\n",
       "      <td>0</td>\n",
       "      <td>0</td>\n",
       "      <td>0</td>\n",
       "      <td>0</td>\n",
       "      <td>0</td>\n",
       "      <td>280</td>\n",
       "      <td>1331</td>\n",
       "      <td>6923</td>\n",
       "      <td>216</td>\n",
       "      <td>64</td>\n",
       "    </tr>\n",
       "  </tbody>\n",
       "</table>\n",
       "</div>"
      ],
      "text/plain": [
       "                               Scan 0  Scan 1  Scan 2  Scan 3  Scan 4  Scan 5  \\\n",
       "Number of cancerous  pixels:        0       0       0       0       0     280   \n",
       "\n",
       "                               Scan 6  Scan 7  Scan 8  Scan 9  \n",
       "Number of cancerous  pixels:     1331    6923     216      64  "
      ]
     },
     "execution_count": 9,
     "metadata": {},
     "output_type": "execute_result"
    }
   ],
   "source": [
    "np.random.seed(42)\n",
    "batch_crops = crops_sampling.next_batch()\n",
    "num_of_cancerous_pixels(batch_crops)"
   ]
  },
  {
   "cell_type": "code",
   "execution_count": 10,
   "metadata": {},
   "outputs": [
    {
     "data": {
      "image/png": "[encoded data removed]",
      "text/plain": [
       "<Figure size 720x576 with 2 Axes>"
      ]
     },
     "metadata": {
      "needs_background": "light"
     },
     "output_type": "display_data"
    }
   ],
   "source": [
    "show_slices(batch_crops, 8, 16, components=['images', 'masks'], clims=[(0, 255), (0, 1)],\n",
    "            grid=False)"
   ]
  },
  {
   "cell_type": "code",
   "execution_count": 27,
   "metadata": {},
   "outputs": [
    {
     "data": {
      "text/plain": [
       "(array([20, 20, 20, 20, 20, 20, 20, 20, 20, 20, 20, 20, 20, 20, 20, 20, 20,\n",
       "        20, 20, 20, 20, 20, 20, 20, 20, 20, 20, 20, 20, 20, 20, 20, 20, 20,\n",
       "        20, 20, 21, 21, 21, 21, 21, 21, 21, 21, 21, 21, 21, 21, 21, 21, 21,\n",
       "        21, 21, 21, 21, 21, 21, 21, 21, 21, 21, 21, 21, 21, 21, 21, 21, 21,\n",
       "        21, 21, 21, 21, 22, 22, 22, 22, 22, 22, 22, 22, 22, 22, 22, 22, 22,\n",
       "        22, 22, 22, 22, 22, 22, 22, 22, 22, 22, 22, 22, 22, 22, 22, 22, 22,\n",
       "        22, 22, 22, 22, 22, 22, 23, 23, 23, 23, 23, 23, 23, 23, 23, 23, 23,\n",
       "        23, 23, 23, 23, 23, 23, 23, 23, 23, 23, 23, 23, 23, 23, 23, 23, 23,\n",
       "        23, 23, 23, 23, 23, 23, 23, 23, 24, 24, 24, 24, 24, 24, 24, 24, 24,\n",
       "        24, 24, 24, 24, 24, 24, 24, 24, 24, 24, 24, 24, 24, 24, 24, 24, 24,\n",
       "        24, 24, 24, 24, 24, 24, 24, 24, 24, 24, 25, 25, 25, 25, 25, 25, 25,\n",
       "        25, 25, 25, 25, 25, 25, 25, 25, 25, 25, 25, 25, 25, 25, 25, 25, 25,\n",
       "        25, 25, 25, 25, 25, 25, 25, 25, 25, 25, 25, 25]),\n",
       " array([37, 37, 37, 37, 37, 37, 38, 38, 38, 38, 38, 38, 39, 39, 39, 39, 39,\n",
       "        39, 40, 40, 40, 40, 40, 40, 41, 41, 41, 41, 41, 41, 42, 42, 42, 42,\n",
       "        42, 42, 37, 37, 37, 37, 37, 37, 38, 38, 38, 38, 38, 38, 39, 39, 39,\n",
       "        39, 39, 39, 40, 40, 40, 40, 40, 40, 41, 41, 41, 41, 41, 41, 42, 42,\n",
       "        42, 42, 42, 42, 37, 37, 37, 37, 37, 37, 38, 38, 38, 38, 38, 38, 39,\n",
       "        39, 39, 39, 39, 39, 40, 40, 40, 40, 40, 40, 41, 41, 41, 41, 41, 41,\n",
       "        42, 42, 42, 42, 42, 42, 37, 37, 37, 37, 37, 37, 38, 38, 38, 38, 38,\n",
       "        38, 39, 39, 39, 39, 39, 39, 40, 40, 40, 40, 40, 40, 41, 41, 41, 41,\n",
       "        41, 41, 42, 42, 42, 42, 42, 42, 37, 37, 37, 37, 37, 37, 38, 38, 38,\n",
       "        38, 38, 38, 39, 39, 39, 39, 39, 39, 40, 40, 40, 40, 40, 40, 41, 41,\n",
       "        41, 41, 41, 41, 42, 42, 42, 42, 42, 42, 37, 37, 37, 37, 37, 37, 38,\n",
       "        38, 38, 38, 38, 38, 39, 39, 39, 39, 39, 39, 40, 40, 40, 40, 40, 40,\n",
       "        41, 41, 41, 41, 41, 41, 42, 42, 42, 42, 42, 42]),\n",
       " array([31, 32, 33, 34, 35, 36, 31, 32, 33, 34, 35, 36, 31, 32, 33, 34, 35,\n",
       "        36, 31, 32, 33, 34, 35, 36, 31, 32, 33, 34, 35, 36, 31, 32, 33, 34,\n",
       "        35, 36, 31, 32, 33, 34, 35, 36, 31, 32, 33, 34, 35, 36, 31, 32, 33,\n",
       "        34, 35, 36, 31, 32, 33, 34, 35, 36, 31, 32, 33, 34, 35, 36, 31, 32,\n",
       "        33, 34, 35, 36, 31, 32, 33, 34, 35, 36, 31, 32, 33, 34, 35, 36, 31,\n",
       "        32, 33, 34, 35, 36, 31, 32, 33, 34, 35, 36, 31, 32, 33, 34, 35, 36,\n",
       "        31, 32, 33, 34, 35, 36, 31, 32, 33, 34, 35, 36, 31, 32, 33, 34, 35,\n",
       "        36, 31, 32, 33, 34, 35, 36, 31, 32, 33, 34, 35, 36, 31, 32, 33, 34,\n",
       "        35, 36, 31, 32, 33, 34, 35, 36, 31, 32, 33, 34, 35, 36, 31, 32, 33,\n",
       "        34, 35, 36, 31, 32, 33, 34, 35, 36, 31, 32, 33, 34, 35, 36, 31, 32,\n",
       "        33, 34, 35, 36, 31, 32, 33, 34, 35, 36, 31, 32, 33, 34, 35, 36, 31,\n",
       "        32, 33, 34, 35, 36, 31, 32, 33, 34, 35, 36, 31, 32, 33, 34, 35, 36,\n",
       "        31, 32, 33, 34, 35, 36, 31, 32, 33, 34, 35, 36]))"
      ]
     },
     "execution_count": 27,
     "metadata": {},
     "output_type": "execute_result"
    }
   ],
   "source": [
    "test = batch_crops.get(8, 'masks')\n",
    "np.where(test[:]>0)"
   ]
  }
 ],
 "metadata": {
  "kernelspec": {
   "display_name": "Python 3",
   "language": "python",
   "name": "python3"
  },
  "language_info": {
   "codemirror_mode": {
    "name": "ipython",
    "version": 3
   },
   "file_extension": ".py",
   "mimetype": "text/x-python",
   "name": "python",
   "nbconvert_exporter": "python",
   "pygments_lexer": "ipython3",
   "version": "3.6.8"
  }
 },
 "nbformat": 4,
 "nbformat_minor": 2
}
