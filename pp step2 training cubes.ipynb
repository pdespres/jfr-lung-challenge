{
 "cells": [
  {
   "cell_type": "code",
   "execution_count": 106,
   "metadata": {},
   "outputs": [],
   "source": [
    "import os\n",
    "import glob\n",
    "import numpy as np\n",
    "import pandas as pd\n",
    "import radio\n",
    "from radio.batchflow import FilesIndex, Dataset, Pipeline\n",
    "from radio import CTImagesMaskedBatch as CTIMB\n",
    "from radio_utils import show_slices, get_nodules_pixel_coords, num_of_cancerous_pixels\n",
    "\n",
    "from config import config\n",
    "import matplotlib.pyplot as plt\n",
    "plt.rcParams['figure.figsize'] = [32, 32]\n",
    "\n",
    "# import utils\n",
    "import warnings\n",
    "warnings.filterwarnings(\"ignore\")\n",
    "\n",
    "%matplotlib inline"
   ]
  },
  {
   "cell_type": "code",
   "execution_count": 91,
   "metadata": {},
   "outputs": [
    {
     "data": {
      "text/plain": [
       "array(['1.3.6.1.4.1.14519.5.2.1.6279.6001.100225287222365663678666836860'],\n",
       "      dtype='<U86')"
      ]
     },
     "execution_count": 91,
     "metadata": {},
     "output_type": "execute_result"
    }
   ],
   "source": [
    "PATH_TO_FOLDER = config['preprocess_result_path']\n",
    "\n",
    "path_to_scans_sample = os.path.join(PATH_TO_FOLDER, '*.mhd')\n",
    "luna_index = FilesIndex(path=path_to_scans_sample, no_ext=True)\n",
    "lunaset = Dataset(index=luna_index, batch_class=CTIMB)\n",
    "luna_index.indices"
   ]
  },
  {
   "cell_type": "code",
   "execution_count": 92,
   "metadata": {},
   "outputs": [
    {
     "name": "stdout",
     "output_type": "stream",
     "text": [
      "2\n"
     ]
    }
   ],
   "source": [
    "filelist = [f.split('_label.npy')[0] for f in os.listdir(PATH_TO_FOLDER) if f.endswith('_label.npy') ]\n",
    "\n",
    "columns_df = ['coordZ', 'coordY', 'coordX', 'diameter_mm', 'seriesuid']\n",
    "columns_temp = ['coordZ', 'coordY', 'coordX', 'diameter_mm']\n",
    "nodules_df = pd.DataFrame([], columns=columns_new)\n",
    "\n",
    "for file in filelist:\n",
    "    annot = np.load(os.path.join(PATH_TO_FOLDER, file + '_label.npy'))\n",
    "    temp = pd.DataFrame(annot, columns=columns_temp)\n",
    "    temp['seriesuid'] = file\n",
    "    nodules_df = pd.concat([nodules_df, temp])\n",
    "print(len(nodules_df))"
   ]
  },
  {
   "cell_type": "code",
   "execution_count": 93,
   "metadata": {},
   "outputs": [],
   "source": [
    "preprocessing = (Pipeline()\n",
    "                .load(fmt='raw')\n",
    "                .fetch_nodules_info(nodules_df)\n",
    "                .create_mask())"
   ]
  },
  {
   "cell_type": "code",
   "execution_count": 95,
   "metadata": {},
   "outputs": [],
   "source": [
    "batch = (lunaset >> preprocessing).next_batch(1, shuffle=False)"
   ]
  },
  {
   "cell_type": "code",
   "execution_count": 96,
   "metadata": {},
   "outputs": [
    {
     "data": {
      "text/html": [
       "<div>\n",
       "<style scoped>\n",
       "    .dataframe tbody tr th:only-of-type {\n",
       "        vertical-align: middle;\n",
       "    }\n",
       "\n",
       "    .dataframe tbody tr th {\n",
       "        vertical-align: top;\n",
       "    }\n",
       "\n",
       "    .dataframe thead th {\n",
       "        text-align: right;\n",
       "    }\n",
       "</style>\n",
       "<table border=\"1\" class=\"dataframe\">\n",
       "  <thead>\n",
       "    <tr style=\"text-align: right;\">\n",
       "      <th></th>\n",
       "      <th>numeric_ix</th>\n",
       "      <th>coordZ</th>\n",
       "      <th>coordY</th>\n",
       "      <th>coordX</th>\n",
       "      <th>diameter_pixels</th>\n",
       "    </tr>\n",
       "  </thead>\n",
       "  <tbody>\n",
       "    <tr>\n",
       "      <th>0</th>\n",
       "      <td>0</td>\n",
       "      <td>130</td>\n",
       "      <td>100</td>\n",
       "      <td>23</td>\n",
       "      <td>6</td>\n",
       "    </tr>\n",
       "    <tr>\n",
       "      <th>1</th>\n",
       "      <td>0</td>\n",
       "      <td>201</td>\n",
       "      <td>64</td>\n",
       "      <td>255</td>\n",
       "      <td>4</td>\n",
       "    </tr>\n",
       "  </tbody>\n",
       "</table>\n",
       "</div>"
      ],
      "text/plain": [
       "   numeric_ix  coordZ  coordY  coordX  diameter_pixels\n",
       "0           0     130     100      23                6\n",
       "1           0     201      64     255                4"
      ]
     },
     "execution_count": 96,
     "metadata": {},
     "output_type": "execute_result"
    }
   ],
   "source": [
    "get_nodules_pixel_coords(batch)"
   ]
  },
  {
   "cell_type": "code",
   "execution_count": 114,
   "metadata": {},
   "outputs": [],
   "source": [
    "crops_sampling_pipeline = preprocessing.sample_nodules(batch_size=4, nodule_size=(64, 64, 64))"
   ]
  },
  {
   "cell_type": "code",
   "execution_count": 115,
   "metadata": {},
   "outputs": [],
   "source": [
    "np.random.seed(42)\n",
    "batch_crops = (lunaset >> crops_sampling_pipeline).next_batch(2, shuffle=False)"
   ]
  },
  {
   "cell_type": "code",
   "execution_count": 116,
   "metadata": {},
   "outputs": [
    {
     "data": {
      "text/html": [
       "<div>\n",
       "<style scoped>\n",
       "    .dataframe tbody tr th:only-of-type {\n",
       "        vertical-align: middle;\n",
       "    }\n",
       "\n",
       "    .dataframe tbody tr th {\n",
       "        vertical-align: top;\n",
       "    }\n",
       "\n",
       "    .dataframe thead th {\n",
       "        text-align: right;\n",
       "    }\n",
       "</style>\n",
       "<table border=\"1\" class=\"dataframe\">\n",
       "  <thead>\n",
       "    <tr style=\"text-align: right;\">\n",
       "      <th></th>\n",
       "      <th>numeric_ix</th>\n",
       "      <th>coordZ</th>\n",
       "      <th>coordY</th>\n",
       "      <th>coordX</th>\n",
       "      <th>diameter_pixels</th>\n",
       "    </tr>\n",
       "  </thead>\n",
       "  <tbody>\n",
       "    <tr>\n",
       "      <th>0</th>\n",
       "      <td>0</td>\n",
       "      <td>32</td>\n",
       "      <td>32</td>\n",
       "      <td>32</td>\n",
       "      <td>4</td>\n",
       "    </tr>\n",
       "    <tr>\n",
       "      <th>1</th>\n",
       "      <td>1</td>\n",
       "      <td>32</td>\n",
       "      <td>32</td>\n",
       "      <td>23</td>\n",
       "      <td>6</td>\n",
       "    </tr>\n",
       "  </tbody>\n",
       "</table>\n",
       "</div>"
      ],
      "text/plain": [
       "   numeric_ix  coordZ  coordY  coordX  diameter_pixels\n",
       "0           0      32      32      32                4\n",
       "1           1      32      32      23                6"
      ]
     },
     "execution_count": 116,
     "metadata": {},
     "output_type": "execute_result"
    }
   ],
   "source": [
    "get_nodules_pixel_coords(batch_crops)"
   ]
  },
  {
   "cell_type": "code",
   "execution_count": 125,
   "metadata": {},
   "outputs": [
    {
     "data": {
      "image/png": "[encoded data removed]",
      "text/plain": [
       "<Figure size 720x576 with 2 Axes>"
      ]
     },
     "metadata": {
      "needs_background": "light"
     },
     "output_type": "display_data"
    }
   ],
   "source": [
    "show_slices(batch_crops, 0, 32, components=['images', 'masks'], clims=[(0, 255), (0, 1)], grid=False)"
   ]
  },
  {
   "cell_type": "code",
   "execution_count": 122,
   "metadata": {},
   "outputs": [
    {
     "data": {
      "text/html": [
       "<div>\n",
       "<style scoped>\n",
       "    .dataframe tbody tr th:only-of-type {\n",
       "        vertical-align: middle;\n",
       "    }\n",
       "\n",
       "    .dataframe tbody tr th {\n",
       "        vertical-align: top;\n",
       "    }\n",
       "\n",
       "    .dataframe thead th {\n",
       "        text-align: right;\n",
       "    }\n",
       "</style>\n",
       "<table border=\"1\" class=\"dataframe\">\n",
       "  <thead>\n",
       "    <tr style=\"text-align: right;\">\n",
       "      <th></th>\n",
       "      <th>Scan 0</th>\n",
       "      <th>Scan 1</th>\n",
       "      <th>Scan 2</th>\n",
       "      <th>Scan 3</th>\n",
       "    </tr>\n",
       "  </thead>\n",
       "  <tbody>\n",
       "    <tr>\n",
       "      <th>Number of cancerous  pixels:</th>\n",
       "      <td>64</td>\n",
       "      <td>216</td>\n",
       "      <td>0</td>\n",
       "      <td>0</td>\n",
       "    </tr>\n",
       "  </tbody>\n",
       "</table>\n",
       "</div>"
      ],
      "text/plain": [
       "                               Scan 0  Scan 1  Scan 2  Scan 3\n",
       "Number of cancerous  pixels:       64     216       0       0"
      ]
     },
     "execution_count": 122,
     "metadata": {},
     "output_type": "execute_result"
    }
   ],
   "source": [
    "num_of_cancerous_pixels(batch_crops)"
   ]
  }
 ],
 "metadata": {
  "kernelspec": {
   "display_name": "Python 3",
   "language": "python",
   "name": "python3"
  },
  "language_info": {
   "codemirror_mode": {
    "name": "ipython",
    "version": 3
   },
   "file_extension": ".py",
   "mimetype": "text/x-python",
   "name": "python",
   "nbconvert_exporter": "python",
   "pygments_lexer": "ipython3",
   "version": "3.6.7"
  }
 },
 "nbformat": 4,
 "nbformat_minor": 2
}
