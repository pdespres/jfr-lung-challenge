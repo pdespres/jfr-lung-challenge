{
 "cells": [
  {
   "cell_type": "code",
   "execution_count": 1,
   "metadata": {},
   "outputs": [],
   "source": [
    "import os\n",
    "import logging\n",
    "import warnings\n",
    "import numpy as np\n",
    "import pandas\n",
    "import SimpleITK as sitk\n",
    "\n",
    "from config import config\n",
    "from multiprocessing import Pool\n",
    "from functools import partial\n",
    "from pp_utils import resample, load_itk_image, display, get_box_from_mask, normalize, worldToVoxelCoord, plot_3d\n",
    "\n",
    "%matplotlib inline"
   ]
  },
  {
   "cell_type": "code",
   "execution_count": 2,
   "metadata": {},
   "outputs": [],
   "source": [
    "def savenpy_luna(id, annos, filelist, luna_segment, luna_data, savepath, resolution, force=False):\n",
    "    \n",
    "    name = filelist[id]\n",
    "    bone_thresh = int(config['pp_bone_threshold'])\n",
    "    pad_value = int(config['pp_pad_value'])\n",
    "        \n",
    "    if force != True:\n",
    "        if os.path.exists(os.path.join(savepath,name+'_label.npy')) and os.path.exists(os.path.join(savepath,name+'.mhd')):\n",
    "#             print(name +' had been done')\n",
    "            return\n",
    "    \n",
    "#     try:\n",
    "    # load lung segmentation mask data given with dataset\n",
    "    mask, origin, spacing,_ = load_itk_image(os.path.join(luna_segment,name+'.mhd'))\n",
    "    m1 = mask==3\n",
    "    m2 = mask>=4\n",
    "    mask = m1+m2\n",
    "    print(mask.shape, resolution)\n",
    "    mask,_ = resample(mask, spacing, resolution)\n",
    "    print(mask.shape, resolution)\n",
    "#     display(mask[int(np.floor(100*spacing[0]/resolution[0]))], 'mask')\n",
    "\n",
    "    # calculate the inflated bounding box for lungs\n",
    "    box_coord = get_box_from_mask(mask)\n",
    "\n",
    "    # load scan\n",
    "    scan_or, origin, spacing, isflip = load_itk_image(os.path.join(luna_data,name+'.mhd'))\n",
    "    scan, new_spacing = resample(scan_or, spacing, resolution)\n",
    "    scan = normalize(scan)\n",
    "#         display(scan[int(np.floor(100*spacing[0]/resolution[0]))], 'scan')\n",
    "\n",
    "    # clean scan + cut bbox\n",
    "    clean_scan = (scan * mask + pad_value * (1 - mask)).astype('uint8')\n",
    "#         np.save(os.path.join(savepath,name+'_clean.npy'), clean_scan)\n",
    "    bones = (clean_scan * mask) > bone_thresh\n",
    "    clean_scan[bones] = pad_value\n",
    "    boxed_scan = clean_scan[box_coord[0,0]:box_coord[0,1],\n",
    "                box_coord[1,0]:box_coord[1,1],\n",
    "                box_coord[2,0]:box_coord[2,1]]\n",
    "#         display(boxed_scan[int(np.floor(100*spacing[0]/resolution[0]))-box_coord[0,0]], int(np.floor(100*spacing[0]/resolution[0]))-box_coord[0,0])\n",
    "\n",
    "    # add a 4th dimension before saving\n",
    "#         save_scan = boxed_scan[np.newaxis,...]\n",
    "#         np.save(os.path.join(savepath,name+'_clean.npy'), save_scan)\n",
    "    itkimage = sitk.GetImageFromArray(boxed_scan)\n",
    "    itkimage.SetSpacing(new_spacing)\n",
    "    itkimage.SetOrigin([0,0,0])\n",
    "    sitk.WriteImage(itkimage, os.path.join(savepath,name+'.mhd'), True) \n",
    "\n",
    "    this_annos = np.copy(annos[annos[:,0]==name])\n",
    "    label = []\n",
    "    if len(this_annos)>0:\n",
    "        for c in this_annos:\n",
    "#                 test = np.absolute(c[1:4][::-1] - origin) / spacing\n",
    "#                 display(scan_or[int(test[0])], test)\n",
    "            pos = worldToVoxelCoord(c[1:4][::-1], origin, spacing, resolution)\n",
    "            if isflip:\n",
    "                pos[1:] = clean_scan.shape[1:3]-pos[1:]\n",
    "            label.append(np.concatenate([pos,[c[4]]]))\n",
    "#                 display(scan[int(pos[0])], '', pos)\n",
    "\n",
    "    label = np.array(label)\n",
    "    if len(label)==0:\n",
    "        label2 = np.array([[0,0,0,0]])\n",
    "    else:\n",
    "        label2 = np.copy(label).T\n",
    "        label2[:3] = label2[:3]-np.expand_dims(box_coord[:,0],1)\n",
    "        label2 = label2[:4].T\n",
    "#             for it in label2:\n",
    "#                 display(boxed_scan[int(it[0])], int(it[0]), '', it)\n",
    "    np.save(os.path.join(savepath,name+'_label.npy'),label2)\n",
    "\n",
    "#     except:\n",
    "#         print('bug in '+name)\n",
    "#         raise\n",
    "    print(name+' done')"
   ]
  },
  {
   "cell_type": "code",
   "execution_count": 3,
   "metadata": {},
   "outputs": [],
   "source": [
    "def preprocess_luna():\n",
    "    luna_segment = config['luna_segment']\n",
    "    savepath = config['preprocess_result_path']\n",
    "    luna_data = config['luna_raw']\n",
    "    luna_label = config['luna_label']\n",
    "    resolution = np.fromstring(config['pp_resolution'][1:-1], sep=',')\n",
    "    finished_flag = '.flag_preprocessluna'\n",
    "    \n",
    "    print('starting preprocessing luna')\n",
    "    \n",
    "#     if not os.path.exists(finished_flag):\n",
    "    filelist = [f.split('.mhd')[0] for f in os.listdir(luna_data) if f.endswith('.mhd') ]\n",
    "    annos = np.array(pandas.read_csv(luna_label))\n",
    "    if not os.path.exists(savepath):\n",
    "        os.mkdir(savepath)\n",
    "\n",
    "    pool = Pool()\n",
    "    partial_savenpy_luna = partial(savenpy_luna, annos=annos, filelist=filelist, luna_segment=luna_segment, \n",
    "                                   luna_data=luna_data, savepath=savepath, resolution=resolution)\n",
    "#     N = len(filelist)\n",
    "#     print('files: ' + str(N))\n",
    "    savenpy_luna(0, annos=annos, filelist=filelist, luna_segment=luna_segment, luna_data=luna_data, \n",
    "                 savepath=savepath, resolution=resolution, force=True)\n",
    "#     _=pool.map(partial_savenpy_luna,range(N))\n",
    "#     pool.close()\n",
    "#     pool.join()\n",
    "    print('end preprocessing luna')\n",
    "#     f= open(finished_flag,\"w+\")"
   ]
  },
  {
   "cell_type": "code",
   "execution_count": 4,
   "metadata": {
    "scrolled": true
   },
   "outputs": [
    {
     "name": "stdout",
     "output_type": "stream",
     "text": [
      "starting preprocessing luna\n",
      "(195, 512, 512) [1. 1. 1.]\n",
      "1.3.6.1.4.1.14519.5.2.1.6279.6001.124154461048929153767743874565 done\n",
      "end preprocessing luna\n",
      "CPU times: user 10 s, sys: 1.35 s, total: 11.4 s\n",
      "Wall time: 11.6 s\n"
     ]
    }
   ],
   "source": [
    "%%time\n",
    "\n",
    "import warnings\n",
    "warnings.filterwarnings(\"ignore\")\n",
    "logging.basicConfig(filename='pp_log.log', format='%(asctime)s %(message)s', datefmt='%m/%d/%Y %I:%M:%S %p', level=logging.WARNING)\n",
    "preprocess_luna()"
   ]
  },
  {
   "cell_type": "code",
   "execution_count": 5,
   "metadata": {},
   "outputs": [],
   "source": [
    "# savepath = config['preprocess_result_path']\n",
    "\n",
    "# filelist = [f.split('.mhd')[0] for f in os.listdir(savepath) if f.endswith('.mhd') ]\n",
    "# name = filelist[0]\n",
    "# scan_or, origin, spacing, isflip = load_itk_image(os.path.join(savepath,name+'.mhd'))\n",
    "# display(scan_or[169],169)"
   ]
  }
 ],
 "metadata": {
  "kernelspec": {
   "display_name": "Python 3",
   "language": "python",
   "name": "python3"
  },
  "language_info": {
   "codemirror_mode": {
    "name": "ipython",
    "version": 3
   },
   "file_extension": ".py",
   "mimetype": "text/x-python",
   "name": "python",
   "nbconvert_exporter": "python",
   "pygments_lexer": "ipython3",
   "version": "3.6.8"
  }
 },
 "nbformat": 4,
 "nbformat_minor": 2
}
